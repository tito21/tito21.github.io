{
 "cells": [
  {
   "cell_type": "markdown",
   "metadata": {},
   "source": [
    "# ¿Cómo calcular $\\sqrt{2}$?\n",
    "\n",
    "¡Facíl con la app calculadora de mi celular! \n",
    "\n",
    "Bien, pero sabemos que en 1600 BC mesopotamia ya se habia calculado la raiz de $\\sqrt{2}=1.414213$ correcto a 6 decimales. Probablemente fue calculado utilizando el algoritmo que hoy se conoce com el metodo Babilonico.\n",
    "\n",
    "La explicacion de este algoritmo normalmente se deduce a partir de un [rectangulo](https://es.wikipedia.org/wiki/C%C3%A1lculo_de_la_ra%C3%ADz_cuadrada#Algoritmo_babil%C3%B3nico) con area igual al numero que se le desa calcular el area y atraves de un proceso iterativo convertirlo en un cuadrado con la misma area.\n",
    "Aqui deduciremos el mismo algoritmo apartir de un metodo numerico para encontrar los ceros de la funccion $f(x)=x^2 - S$ (¿puedes mostrar porque esta funcion?).\n",
    "Para encontrar numericamente los ceros de una funcion existen diversos metodos, uno de los mas populares es el el metodo de [Newton-Raphson](https://es.wikipedia.org/w/index.php?title=M%C3%A9todo_de_Newton-Raphson) (a veces llamado simplemente de Newton).\n",
    "En este articulo deduciremos la formula del metodo Babilonico y lo implementaremos en Python. Voy a asumir que ya tienen un conocimiento basico de las librerias [Numpy](https://www.numpy.org) y [Matplotlib](https://www.matplotlib.org)\n",
    "\n",
    "## Metodo de Newton-Raphson\n",
    "\n",
    "Este metodo de Newton-Raphson se vasa en buscar los ceros de la función apartir de una serie de aproximaciones lineales, cada vez mas cercanas a el cero real.\n",
    "\n",
    "![Animacion del metodo de newton](NewtonIteration_Ani.gif \"\")\n",
    "\n",
    "Como ya mencionamos los ceros de la funcion $f(x)=x^2 - S$ son $\\pm\\sqrt{S}$ por lo tantoo al buscarlos con este metodo obtendremos la respuesta.\n"
   ]
  },
  {
   "cell_type": "code",
   "execution_count": 2,
   "metadata": {},
   "outputs": [
    {
     "data": {
      "image/png": "[encoded data removed]",
      "text/plain": [
       "<Figure size 432x288 with 1 Axes>"
      ]
     },
     "metadata": {
      "needs_background": "light"
     },
     "output_type": "display_data"
    }
   ],
   "source": [
    "import matplotlib.pyplot as plt\n",
    "import numpy as np\n",
    "\n",
    "S = 2\n",
    "x = np.linspace(-1, 3, 100)\n",
    "\n",
    "def f(x, S=2):\n",
    "    return x**2 - S\n",
    "\n",
    "plt.plot(x, f(x))\n",
    "plt.grid()\n",
    "ax = plt.gca()\n",
    "ax.spines['right'].set_color('none')\n",
    "ax.spines['top'].set_color('none')\n",
    "ax.xaxis.set_ticks_position('bottom')\n",
    "ax.spines['bottom'].set_position(('data',0))\n",
    "ax.yaxis.set_ticks_position('left')\n",
    "ax.spines['left'].set_position(('data',0))\n",
    "plt.show()"
   ]
  },
  {
   "cell_type": "markdown",
   "metadata": {},
   "source": [
    "El primer paso es partir de un valor inicial $x_0$. Luego podemos aproximar la funcion en este punto con su linea tangente. Usando la derivada sabemos que la recta tangene a este punto es \n",
    "\n",
    "$$ f(x) \\approx f'(x_0)(x - x_0) + f(x_0) $$\n",
    "\n",
    "Luego podemos encontrar una nueva aproximacion para el cero despejando $x$. \n",
    "\n",
    "$$x_1 = x_0 - f(x_0)/f'(x_0)$$\n",
    "\n",
    "Finalmente remplazando con la funcion $f(x)$ encontramos que luego de $k$ iteraciones una aproximacion para la raiz de $S$ esta dada por las siguientes ecuaciones (¿puedes ver porque?)\n",
    "\n",
    "$$x_{k} = \\frac{S+x_{k-1}^2}{2x_{k-1}}$$\n",
    "$$\\sqrt{S} =  \\lim_{k \\rightarrow \\infty}x_k$$\n",
    "\n"
   ]
  },
  {
   "cell_type": "code",
   "execution_count": 3,
   "metadata": {},
   "outputs": [
    {
     "data": {
      "image/png": "[encoded data removed]",
      "text/plain": [
       "<Figure size 432x288 with 1 Axes>"
      ]
     },
     "metadata": {
      "needs_background": "light"
     },
     "output_type": "display_data"
    }
   ],
   "source": [
    "def f_prime(x):\n",
    "    return 2*x\n",
    "\n",
    "x0 = 2\n",
    "plt.scatter([x0], [f(x0)], 50)\n",
    "plt.plot(x, f(x))\n",
    "plt.plot(x, f_prime(x0)*(x - x0) + f(x0))\n",
    "plt.grid()\n",
    "ax = plt.gca()\n",
    "ax.spines['right'].set_color('none')\n",
    "ax.spines['top'].set_color('none')\n",
    "ax.xaxis.set_ticks_position('bottom')\n",
    "ax.spines['bottom'].set_position(('data',0))\n",
    "ax.yaxis.set_ticks_position('left')\n",
    "ax.spines['left'].set_position(('data',0))\n",
    "plt.show()"
   ]
  },
  {
   "cell_type": "markdown",
   "metadata": {},
   "source": [
    "## Implementación en Python\n",
    "\n",
    "Si buscamos la raiz cuadrada de $2$ podemos partir con $x_0=2$ y usando las equaciones que encontramos en la seccion anterior busacar una aproximacion cada vez mas cercana al valor real."
   ]
  },
  {
   "cell_type": "code",
   "execution_count": 9,
   "metadata": {},
   "outputs": [
    {
     "name": "stdout",
     "output_type": "stream",
     "text": [
      "[2, 1.5, 1.4166666666666667, 1.4142156862745099]\n",
      "1.4142156862745099\n",
      "Error: 2.1239014147411694e-06\n",
      "1.4142135623730951\n"
     ]
    }
   ],
   "source": [
    "S = 2\n",
    "x0 = 2\n",
    "x_n = [x0] # guardaremos la aprroximacion de cada iteracion\n",
    "for i in range(3):\n",
    "    x_prev = x_n[-1] # el ultimo elemento de la lista\n",
    "    x_next = (S + x_prev**2) / (2*x_prev)\n",
    "    x_n.append(x_next)\n",
    "\n",
    "print(x_n)\n",
    "print(x_n[-1])\n",
    "print(f\"Error: {x_n[-1] - np.sqrt(S)}\")\n",
    "print(np.sqrt(2))"
   ]
  },
  {
   "cell_type": "markdown",
   "metadata": {},
   "source": [
    "¡Listo! Ya con solo 3 iteraciones ya podemos encontrar la raiz correcta a 5 decimales, y si tan solo iteramos dos veces más ya tenemos la respuesta a 12 decimales.\n",
    "\n",
    "Un parametro importante para el metodo de Newton es el punto de partida $x_0$. Prueba con distintos valores y obserba que para un numero pequeño de iteranciones el algoritmo no es capaz de llegar a la respuesta si el punto de partida es muy lejano al real. \n",
    "\n",
    "Las calculadoras y computadores implementan aproximaciones para poder garantizar una rapida convergencia. Por ahora solo implementaremos parametros extras que controlan el numero de iteraciones y la prescion de la respuesta. Lo que hacemos es itear todas las veces que sea necesario hasta que la disstancia entre la aproximacion acual y la respuesta correcta sea menor a un numero pequeño `epsilon`. Por otro lado intependiente de la calidad de la aproximación no haremos más de `maxiter` iteraciones."
   ]
  },
  {
   "cell_type": "code",
   "execution_count": 10,
   "metadata": {},
   "outputs": [
    {
     "name": "stdout",
     "output_type": "stream",
     "text": [
      "1.4142135623746899\n"
     ]
    }
   ],
   "source": [
    "def sqrt(S, x0=None, maxiter=100, epsilon=1e-6):\n",
    "    if x0 is None:\n",
    "        x0 = S\n",
    "    i= 0\n",
    "    while abs(x0**2-S) > epsilon and i < maxiter:\n",
    "        x0 = (S + x0**2) / (2*x0)\n",
    "        i = i + 1\n",
    "    return x0\n",
    "\n",
    "print(sqrt(2))"
   ]
  },
  {
   "cell_type": "markdown",
   "metadata": {},
   "source": [
    "En este cuaderno aprendimos como deducir el metodo Babilonico para encontrar raices cuadradas. El metodo de Newton-Rapson utilzado se puede aplicar para encontrar las soluciones de una gran cantidad de ecuaciones usadas en la practica incluyendo aplicacion en optimización."
   ]
  }
 ],
 "metadata": {
  "kernelspec": {
   "display_name": "Python 3",
   "language": "python",
   "name": "python3"
  },
  "language_info": {
   "codemirror_mode": {
    "name": "ipython",
    "version": 3
   },
   "file_extension": ".py",
   "mimetype": "text/x-python",
   "name": "python",
   "nbconvert_exporter": "python",
   "pygments_lexer": "ipython3",
   "version": "3.6.5"
  }
 },
 "nbformat": 4,
 "nbformat_minor": 2
}
